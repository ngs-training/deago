{
 "cells": [
  {
   "cell_type": "markdown",
   "metadata": {},
   "source": [
    "# DEAGO"
   ]
  },
  {
   "cell_type": "markdown",
   "metadata": {},
   "source": [
    "DEAGO generates user-friendly quality control (QC) and analysis reports for RNA-Seq datasets. These interactive reports can be opened simply in a web browser and provide a simple way of sharing information about your analysis with collaborators. "
   ]
  },
  {
   "cell_type": "markdown",
   "metadata": {},
   "source": [
    "The DEAGO user guide is split into several sections: \n",
    "\n",
    "1. [Introduction](Introduction.ipynb)\n",
    "2. [Input files](Input-files.ipynb)\n",
    "3. [Output files](Output-files.ipynb)\n",
    "4. [Preparing an annotation file](Preparing-an-annotation-file.ipynb)\n",
    "5. [Quality control (QC)](Quality-control.ipynb)\n",
    "6. [Identifying DE genes](Identifying-DE-genes.ipynb)\n",
    "7. [GO term enrichment](GO-term-enrichment.ipynb)\n",
    "8. [Bespoke analyses](Bespoke-analyses.ipynb)"
   ]
  },
  {
   "cell_type": "markdown",
   "metadata": {},
   "source": [
    "## Tutorial\n",
    "\n",
    "There is a short [DEAGO tutorial](DEAGO-tutorial.ipynb) which will give you an opportunity to look at example input data, run some DEAGO analyses and look at the output files which are generated."
   ]
  },
  {
   "cell_type": "markdown",
   "metadata": {},
   "source": [
    "## Sanger pathogen users\n",
    "\n",
    "We also have a separate [Sanger pathogen users](Sanger-pathogen-users.ipynb) page which will walk you through preparing your input data from the Sanger pathogen pipelines."
   ]
  }
 ],
 "metadata": {
  "anaconda-cloud": {},
  "kernelspec": {
   "display_name": "Bash",
   "language": "bash",
   "name": "bash"
  },
  "language_info": {
   "codemirror_mode": "shell",
   "file_extension": ".sh",
   "mimetype": "text/x-sh",
   "name": "bash"
  }
 },
 "nbformat": 4,
 "nbformat_minor": 1
}
