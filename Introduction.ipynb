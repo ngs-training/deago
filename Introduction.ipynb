{
 "cells": [
  {
   "cell_type": "markdown",
   "metadata": {},
   "source": [
    "# Introduction \n",
    "\n",
    "DEAGO generates user-friendly quality control (QC) and analysis reports for RNA-Seq datasets. These interactive reports can be opened simply in a web browser and provide a simple way of sharing information about your analysis with collaborators. \n",
    "\n",
    "DEAGO uses a Perl wrapper module (**[Bio-Deago](https://github.com/sanger-pathogens/Bio-Deago)**) to generate a HTML report from markdown templates by calling functions from an R package (**[deago](https://github.com/sanger-pathogens/deago)**). \n",
    "\n",
    "There are three main steps to each analysis:\n",
    "\n",
    "* Generating QC plots (**[ggplot2](http://ggplot2.org/)**)\n",
    "* Identifying differentially expressed (DE) genes (**[DESeq2](https://bioconductor.org/packages/release/bioc/html/DESeq2.html)**) \n",
    "* Performing gene ontology (GO) term enrichment analyses (**[topGO](http://bioconductor.org/packages/release/bioc/html/topGO.html)**)\n",
    "\n",
    "***\n",
    "\n",
    "## Prerequisites\n",
    "\n",
    "Before working with DEAGO, you will first need to have installed:\n",
    "\n",
    "* [Bio-Deago](https://github.com/sanger-pathogens/Bio-Deago) (Perl module)\n",
    "* [deago](https://github.com/sanger-pathogens/deago) (R package)\n",
    "\n",
    "_Note: For Sanger pathogens users, these are already available on pcs5 and farm3._"
   ]
  }
 ],
 "metadata": {
  "anaconda-cloud": {},
  "kernelspec": {
   "display_name": "Bash",
   "language": "bash",
   "name": "bash"
  },
  "language_info": {
   "codemirror_mode": "shell",
   "file_extension": ".sh",
   "mimetype": "text/x-sh",
   "name": "bash"
  }
 },
 "nbformat": 4,
 "nbformat_minor": 1
}
